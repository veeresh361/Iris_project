{
 "cells": [
  {
   "cell_type": "code",
   "execution_count": 14,
   "id": "86370fc9-f1df-4f80-b6ce-a92fd3768936",
   "metadata": {},
   "outputs": [],
   "source": [
    "from sklearn.datasets import load_iris\n",
    "import torch"
   ]
  },
  {
   "cell_type": "code",
   "execution_count": 15,
   "id": "121e9cc3-b2d0-49d8-9c6f-47b24d1ed364",
   "metadata": {},
   "outputs": [],
   "source": [
    "import torch.nn as nn\n",
    "import torch.optim as optim\n",
    "from sklearn.model_selection import train_test_split\n",
    "from sklearn.preprocessing import StandardScaler\n",
    "import matplotlib.pyplot as plt\n",
    "import numpy as np"
   ]
  },
  {
   "cell_type": "code",
   "execution_count": 16,
   "id": "528776be-5458-493a-8e5b-d96d35cc1fd5",
   "metadata": {},
   "outputs": [],
   "source": [
    "iris = load_iris()\n",
    "X = iris.data\n",
    "y = (iris.target).astype(float) "
   ]
  },
  {
   "cell_type": "code",
   "execution_count": 17,
   "id": "55d21317-30be-4b93-9e4f-d86ce389e75d",
   "metadata": {},
   "outputs": [
    {
     "data": {
      "text/plain": [
       "array([0., 0., 0., 0., 0., 0., 0., 0., 0., 0., 0., 0., 0., 0., 0., 0., 0.,\n",
       "       0., 0., 0., 0., 0., 0., 0., 0., 0., 0., 0., 0., 0., 0., 0., 0., 0.,\n",
       "       0., 0., 0., 0., 0., 0., 0., 0., 0., 0., 0., 0., 0., 0., 0., 0., 1.,\n",
       "       1., 1., 1., 1., 1., 1., 1., 1., 1., 1., 1., 1., 1., 1., 1., 1., 1.,\n",
       "       1., 1., 1., 1., 1., 1., 1., 1., 1., 1., 1., 1., 1., 1., 1., 1., 1.,\n",
       "       1., 1., 1., 1., 1., 1., 1., 1., 1., 1., 1., 1., 1., 1., 1., 2., 2.,\n",
       "       2., 2., 2., 2., 2., 2., 2., 2., 2., 2., 2., 2., 2., 2., 2., 2., 2.,\n",
       "       2., 2., 2., 2., 2., 2., 2., 2., 2., 2., 2., 2., 2., 2., 2., 2., 2.,\n",
       "       2., 2., 2., 2., 2., 2., 2., 2., 2., 2., 2., 2., 2., 2.])"
      ]
     },
     "execution_count": 17,
     "metadata": {},
     "output_type": "execute_result"
    }
   ],
   "source": [
    "y"
   ]
  },
  {
   "cell_type": "code",
   "execution_count": 18,
   "id": "8b67082b-de60-4b3c-bdfa-b9c82853ddd4",
   "metadata": {},
   "outputs": [],
   "source": [
    "X_train, X_test, y_train, y_test = train_test_split(X, y, test_size=0.2, random_state=42)"
   ]
  },
  {
   "cell_type": "code",
   "execution_count": 19,
   "id": "90139b4a-8a74-49f0-b82e-1a33b97cec8d",
   "metadata": {},
   "outputs": [],
   "source": [
    "scaler = StandardScaler()\n",
    "X_train = scaler.fit_transform(X_train)\n",
    "X_test = scaler.transform(X_test)"
   ]
  },
  {
   "cell_type": "code",
   "execution_count": 20,
   "id": "9c29a0ab-80f6-4a01-9e7a-478357ca96f3",
   "metadata": {},
   "outputs": [],
   "source": [
    "X_train_tensor = torch.tensor(X_train, dtype=torch.float32)\n",
    "y_train_tensor = torch.tensor(y_train.reshape(-1, 1), dtype=torch.long)\n",
    "X_test_tensor = torch.tensor(X_test, dtype=torch.float32)\n",
    "y_test_tensor = torch.tensor(y_test.reshape(-1, 1), dtype=torch.long)"
   ]
  },
  {
   "cell_type": "code",
   "execution_count": 21,
   "id": "46281a83-043b-4496-ac9a-84f0a81cd2ab",
   "metadata": {},
   "outputs": [],
   "source": [
    "class IrisNetMultiClass(nn.Module):\n",
    "    def __init__(self, input_dim):\n",
    "        super(IrisNetMultiClass, self).__init__()\n",
    "        self.layer1 = nn.Linear(input_dim, 3)\n",
    "        self.layer2 = nn.Linear(3, 2)\n",
    "        self.output = nn.Linear(2, 3)\n",
    "\n",
    "    def forward(self, x):\n",
    "        x=self.layer1(x)\n",
    "        x=torch.relu(x)\n",
    "        x=self.layer2(x)\n",
    "        x=torch.relu(x)\n",
    "        # prediction= nn.LogSoftmax(x)\n",
    "        return self.output(x)"
   ]
  },
  {
   "cell_type": "code",
   "execution_count": 22,
   "id": "bde76ece-b4f5-47a1-ad89-4b91524fc1be",
   "metadata": {},
   "outputs": [],
   "source": [
    "test_model=IrisNetMultiClass(input_dim=4)"
   ]
  },
  {
   "cell_type": "code",
   "execution_count": 23,
   "id": "ed90984e-1966-4ea7-ba17-09e0a622604d",
   "metadata": {},
   "outputs": [
    {
     "data": {
      "text/plain": [
       "tensor([[ 0.5823,  1.0810, -0.3506]], grad_fn=<AddmmBackward0>)"
      ]
     },
     "execution_count": 23,
     "metadata": {},
     "output_type": "execute_result"
    }
   ],
   "source": [
    "test_input=X_train_tensor[0].view(1,-1)\n",
    "model = IrisNetMultiClass(input_dim=4)\n",
    "prediction=model.forward(test_input)\n",
    "prediction"
   ]
  },
  {
   "cell_type": "code",
   "execution_count": 24,
   "id": "88495da0-2111-4d95-88c6-c118bfe4a893",
   "metadata": {},
   "outputs": [],
   "source": [
    "model = IrisNetMultiClass(input_dim=4)\n",
    "criterion = nn.CrossEntropyLoss()\n",
    "optimizer = optim.Adam(model.parameters(), lr=0.01)"
   ]
  },
  {
   "cell_type": "code",
   "execution_count": null,
   "id": "e80e5ca3-fc2f-4138-a73d-9534a006fff8",
   "metadata": {},
   "outputs": [],
   "source": []
  },
  {
   "cell_type": "code",
   "execution_count": 36,
   "id": "285f9ec2-5489-40fb-97fd-874e7fdcaf2e",
   "metadata": {},
   "outputs": [],
   "source": [
    "epochs = 100\n",
    "losses = []\n",
    "\n",
    "for epoch in range(epochs):\n",
    "    optimizer.zero_grad()\n",
    "    outputs = model(X_train_tensor)\n",
    "    # print(outputs)\n",
    "    #break\n",
    "    loss = criterion(outputs, y_train_tensor.view(-1))\n",
    "    loss.backward()\n",
    "    optimizer.step()\n",
    "    losses.append(loss.item())"
   ]
  },
  {
   "cell_type": "code",
   "execution_count": 31,
   "id": "6632604b-b630-440f-bbcb-5c708e155f5c",
   "metadata": {},
   "outputs": [],
   "source": [
    "inp = torch.randn(3, 5, requires_grad=True)\n",
    "target = torch.empty(3, dtype=torch.long).random_(5)\n",
    "loss = nn.CrossEntropyLoss()\n",
    "output = loss(inp, target)"
   ]
  },
  {
   "cell_type": "code",
   "execution_count": 37,
   "id": "23fc6fbd-5b08-4945-a56a-21b0f2aaabc6",
   "metadata": {},
   "outputs": [
    {
     "data": {
      "image/png": "[encoded data removed]",
      "text/plain": [
       "<Figure size 640x480 with 1 Axes>"
      ]
     },
     "metadata": {},
     "output_type": "display_data"
    }
   ],
   "source": [
    "plt.plot(range(epochs), losses)\n",
    "plt.xlabel(\"Epoch\")\n",
    "plt.ylabel(\"Loss\")\n",
    "plt.title(\"Training Loss Over Epochs (Multi-Class ANN)\")\n",
    "plt.grid(True)\n",
    "plt.tight_layout()\n",
    "plt.show()"
   ]
  },
  {
   "cell_type": "code",
   "execution_count": 38,
   "id": "c8e0874c-11e6-4194-a3e8-8aa929f9733f",
   "metadata": {},
   "outputs": [
    {
     "name": "stdout",
     "output_type": "stream",
     "text": [
      "Test Accuracy: 10.60\n"
     ]
    }
   ],
   "source": [
    "model.eval()\n",
    "with torch.no_grad():\n",
    "    test_outputs = model(X_test_tensor)\n",
    "    _, predictions = torch.max(test_outputs, 1)\n",
    "    accuracy = (predictions == y_test_tensor).sum().item() / y_test_tensor.size(0)\n",
    "\n",
    "print(f\"Test Accuracy: {accuracy:.2f}\")"
   ]
  },
  {
   "cell_type": "code",
   "execution_count": 45,
   "id": "86ce09f9-2a60-4d73-b801-796247bf55ca",
   "metadata": {},
   "outputs": [],
   "source": [
    "_, predictions=torch.max(test_outputs,1)"
   ]
  },
  {
   "cell_type": "code",
   "execution_count": 46,
   "id": "4e168016-7325-4573-a59c-65b7fe47eb7a",
   "metadata": {},
   "outputs": [
    {
     "data": {
      "text/plain": [
       "tensor([2, 0, 2, 2, 2, 0, 1, 2, 2, 2, 2, 0, 0, 0, 0, 2, 2, 2, 2, 2, 0, 2, 0, 2,\n",
       "        2, 2, 2, 2, 0, 0])"
      ]
     },
     "execution_count": 46,
     "metadata": {},
     "output_type": "execute_result"
    }
   ],
   "source": [
    "predictions"
   ]
  },
  {
   "cell_type": "code",
   "execution_count": 52,
   "id": "d0d2fdc2-ad92-4df5-9cf9-94f1c2a8cc6f",
   "metadata": {},
   "outputs": [
    {
     "data": {
      "text/plain": [
       "22"
      ]
     },
     "execution_count": 52,
     "metadata": {},
     "output_type": "execute_result"
    }
   ],
   "source": [
    "(predictions == y_test_tensor.view(-1)).sum().item()"
   ]
  },
  {
   "cell_type": "code",
   "execution_count": 53,
   "id": "5ae5f87f-e6e8-434b-a45f-2ea397b99d09",
   "metadata": {},
   "outputs": [
    {
     "data": {
      "text/plain": [
       "30"
      ]
     },
     "execution_count": 53,
     "metadata": {},
     "output_type": "execute_result"
    }
   ],
   "source": [
    " y_test_tensor.size(0)"
   ]
  },
  {
   "cell_type": "code",
   "execution_count": 54,
   "id": "28d8d6d4-3452-4c1f-ba14-c9eb2bcd4fb1",
   "metadata": {},
   "outputs": [
    {
     "data": {
      "text/plain": [
       "0.7333333333333333"
      ]
     },
     "execution_count": 54,
     "metadata": {},
     "output_type": "execute_result"
    }
   ],
   "source": [
    "(predictions == y_test_tensor.view(-1)).sum().item()/ y_test_tensor.size(0)"
   ]
  },
  {
   "cell_type": "code",
   "execution_count": null,
   "id": "24fc0db4-c3c8-4575-b3a8-9728e204718d",
   "metadata": {},
   "outputs": [],
   "source": []
  }
 ],
 "metadata": {
  "kernelspec": {
   "display_name": "Python 3 (ipykernel)",
   "language": "python",
   "name": "python3"
  },
  "language_info": {
   "codemirror_mode": {
    "name": "ipython",
    "version": 3
   },
   "file_extension": ".py",
   "mimetype": "text/x-python",
   "name": "python",
   "nbconvert_exporter": "python",
   "pygments_lexer": "ipython3",
   "version": "3.10.16"
  }
 },
 "nbformat": 4,
 "nbformat_minor": 5
}
